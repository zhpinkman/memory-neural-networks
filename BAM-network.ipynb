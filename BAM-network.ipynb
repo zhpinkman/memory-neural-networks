{
 "cells": [
  {
   "cell_type": "code",
   "execution_count": 81,
   "id": "insured-trance",
   "metadata": {},
   "outputs": [],
   "source": [
    "import numpy as np\n",
    "import matplotlib.pyplot as plt"
   ]
  },
  {
   "cell_type": "markdown",
   "id": "peripheral-university",
   "metadata": {},
   "source": [
    "### Defining the input vectors and the output vectors associated with them"
   ]
  },
  {
   "cell_type": "code",
   "execution_count": 82,
   "id": "exclusive-literacy",
   "metadata": {},
   "outputs": [],
   "source": [
    "ps = np.zeros([8, 15])\n",
    "ts = np.zeros([8, 3])\n",
    "ps[0] = np.array([\n",
    "    -1, 1, -1, \n",
    "    1, -1, 1, \n",
    "    1, 1, 1, \n",
    "    1, -1, 1, \n",
    "    1, -1, 1\n",
    "])\n",
    "ts[0] = np.array([-1, -1, -1])\n",
    "ps[1] = np.array([\n",
    "    1, 1, -1, \n",
    "    1, -1, 1,\n",
    "    1, 1, -1, \n",
    "    1, -1, 1, \n",
    "    1, 1, -1\n",
    "])\n",
    "ts[1] = np.array([-1, -1, 1])\n",
    "ps[2] = np.array([\n",
    "    -1, 1, 1, \n",
    "    1, -1, -1,\n",
    "    1, -1, -1,\n",
    "    1, -1, -1, \n",
    "    -1, 1, 1\n",
    "])\n",
    "ts[2] = np.array([-1, 1, -1])\n",
    "ps[3] = np.array([\n",
    "    1, 1, -1, \n",
    "    1, -1, 1,\n",
    "    1, -1, 1,\n",
    "    1, -1, 1,\n",
    "    1, 1, -1\n",
    "])\n",
    "ts[3] = np.array([-1, 1, 1])\n",
    "ps[4] = np.array([\n",
    "    1, 1, 1, \n",
    "    1, -1, -1, \n",
    "    1, 1, -1, \n",
    "    1, -1, -1, \n",
    "    1, 1, 1\n",
    "])\n",
    "ts[4] = np.array([1, -1, -1])\n",
    "ps[5] = np.array([\n",
    "    1, 1, 1, \n",
    "    1, -1, -1, \n",
    "    1, 1, -1, \n",
    "    1, -1, -1,\n",
    "    1, -1, -1\n",
    "])\n",
    "ts[5] = np.array([1, -1, 1])\n",
    "ps[6] = np.array([\n",
    "    -1, 1, 1, \n",
    "    1, -1, -1, \n",
    "    1, -1, 1, \n",
    "    1, -1, 1, \n",
    "    -1, 1, 1\n",
    "])\n",
    "ts[6] = np.array([1, 1, -1])\n",
    "ps[7] = np.array([\n",
    "    1, -1, 1, \n",
    "    1, -1, 1, \n",
    "    1, 1, 1, \n",
    "    1, -1, 1, \n",
    "    1, -1, 1\n",
    "])\n",
    "ts[7] = np.array([1, 1, 1])"
   ]
  },
  {
   "cell_type": "code",
   "execution_count": 83,
   "id": "later-virtue",
   "metadata": {},
   "outputs": [
    {
     "data": {
      "image/png": "[encoded data removed]",
      "text/plain": [
       "<Figure size 432x288 with 8 Axes>"
      ]
     },
     "metadata": {
      "needs_background": "light"
     },
     "output_type": "display_data"
    }
   ],
   "source": [
    "fig, axs = plt.subplots(2, 4)\n",
    "for i in range(2):\n",
    "    for j in range(4):\n",
    "        axs[i][j].imshow(ps[4*i + j].reshape(5, 3), cmap=plt.cm.gray_r)"
   ]
  },
  {
   "cell_type": "code",
   "execution_count": 84,
   "id": "large-tactics",
   "metadata": {},
   "outputs": [],
   "source": [
    "def init_weights(ps, ts):\n",
    "    weights = np.zeros([ps.shape[1], ts.shape[1]])\n",
    "    for p in range(ps.shape[0]):\n",
    "        a = ps[p]\n",
    "        b = ts[p]\n",
    "        a = np.expand_dims(a, 1)\n",
    "        b = np.expand_dims(b, 0)\n",
    "        weights += np.matmul(a, b)\n",
    "    return weights"
   ]
  },
  {
   "cell_type": "code",
   "execution_count": 85,
   "id": "retired-native",
   "metadata": {},
   "outputs": [],
   "source": [
    "def add_noise(a, prob):\n",
    "    a = a.copy()\n",
    "    choices = np.random.choice(np.arange(a.shape[0]), size=int(prob*a.shape[0]), replace=False)\n",
    "    for choice in choices:\n",
    "        a[choice] *= -1\n",
    "    return a"
   ]
  },
  {
   "cell_type": "code",
   "execution_count": 86,
   "id": "exclusive-announcement",
   "metadata": {},
   "outputs": [],
   "source": [
    "def activate(a, theta=0):\n",
    "    if a > theta:\n",
    "        return 1\n",
    "    else: \n",
    "        return -1\n",
    "activate = np.vectorize(activate)"
   ]
  },
  {
   "cell_type": "code",
   "execution_count": 87,
   "id": "suffering-andorra",
   "metadata": {},
   "outputs": [],
   "source": [
    "def predict(input_vec, weights):\n",
    "    x = np.zeros(weights.shape[0])\n",
    "    y = np.zeros(weights.shape[1])\n",
    "    history_x = np.zeros_like(x)\n",
    "    history_y = np.zeros_like(y)\n",
    "    x = input_vec.copy()\n",
    "    converged = False\n",
    "    while not converged:\n",
    "        y = np.matmul(np.expand_dims(x, 0), weights).squeeze(0)\n",
    "        y = activate(y)\n",
    "        x = np.matmul(np.expand_dims(y, 0), weights.T).squeeze(0)\n",
    "        x = activate(x)\n",
    "        if (x == history_x).all() and (y == history_y).all():\n",
    "            converged = True\n",
    "        history_x = x\n",
    "        history_y = y\n",
    "    return history_x, history_y"
   ]
  },
  {
   "cell_type": "code",
   "execution_count": 104,
   "id": "third-canadian",
   "metadata": {},
   "outputs": [],
   "source": [
    "def predict_r(input_vec, weights):\n",
    "    x = np.zeros(weights.shape[0])\n",
    "    y = np.zeros(weights.shape[1])\n",
    "    history_x = np.zeros_like(x)\n",
    "    history_y = np.zeros_like(y)\n",
    "    y = input_vec.copy()\n",
    "    converged = False\n",
    "    while not converged:\n",
    "        x = np.matmul(np.expand_dims(y, 0), weights.T).squeeze(0)\n",
    "        x = activate(x)\n",
    "        y = np.matmul(np.expand_dims(x, 0), weights).squeeze(0)\n",
    "        y = activate(y)\n",
    "        if (x == history_x).all() and (y == history_y).all():\n",
    "            converged = True\n",
    "        history_x = x\n",
    "        history_y = y\n",
    "    return history_x, history_y"
   ]
  },
  {
   "cell_type": "code",
   "execution_count": 105,
   "id": "direct-correction",
   "metadata": {},
   "outputs": [],
   "source": [
    "weights = init_weights(ps[:3, :], ts[:3, :])"
   ]
  },
  {
   "cell_type": "code",
   "execution_count": 106,
   "id": "dutch-roman",
   "metadata": {},
   "outputs": [
    {
     "data": {
      "image/png": "[encoded data removed]",
      "text/plain": [
       "<Figure size 864x576 with 3 Axes>"
      ]
     },
     "metadata": {
      "needs_background": "light"
     },
     "output_type": "display_data"
    }
   ],
   "source": [
    "fig, axs = plt.subplots(1, 3, figsize=[12, 8])\n",
    "for i in range(3):\n",
    "    history_x, history_y = predict(ps[i], weights)\n",
    "    axs[i].imshow(history_x.reshape(5, 3), cmap=plt.cm.gray_r)\n",
    "    axs[i].set_title('predicted X with predicted y as {} \\nand actual y as {}'.format(history_y, ts[i]))\n",
    "plt.tight_layout(pad=5)"
   ]
  },
  {
   "cell_type": "code",
   "execution_count": 107,
   "id": "numerous-idaho",
   "metadata": {},
   "outputs": [
    {
     "name": "stdout",
     "output_type": "stream",
     "text": [
      "[[ 1. -1.  3.]\n",
      " [-3. -1. -1.]\n",
      " [ 1.  3. -1.]\n",
      " [-3. -1. -1.]\n",
      " [ 3.  1.  1.]\n",
      " [-1. -3.  1.]\n",
      " [-3. -1. -1.]\n",
      " [-1. -3.  1.]\n",
      " [ 1. -1. -1.]\n",
      " [-3. -1. -1.]\n",
      " [ 3.  1.  1.]\n",
      " [-1. -3.  1.]\n",
      " [-1. -3.  1.]\n",
      " [-1.  1.  1.]\n",
      " [-1.  1. -3.]]\n"
     ]
    }
   ],
   "source": [
    "print(weights)"
   ]
  },
  {
   "cell_type": "code",
   "execution_count": 108,
   "id": "metric-connecticut",
   "metadata": {},
   "outputs": [
    {
     "name": "stdout",
     "output_type": "stream",
     "text": [
      "The accuracy of the model for the 1-th word: 1.0\n",
      "The accuracy of the model for the 2-th word: 1.0\n",
      "The accuracy of the model for the 3-th word: 1.0\n"
     ]
    }
   ],
   "source": [
    "results = np.zeros([3])\n",
    "for _ in range(100):\n",
    "    for i in range(3):\n",
    "        input_with_noise = add_noise(ps[i], 0)\n",
    "        history_x, history_y = predict(input_with_noise, weights)\n",
    "        if (history_x == ps[i]).all() and (history_y == ts[i]).all():\n",
    "            results[i] += 1\n",
    "for i in range(3):\n",
    "    print('The accuracy of the model for the {}-th word: {}'.format(i + 1, results[i] / 100))"
   ]
  },
  {
   "cell_type": "markdown",
   "id": "neural-olive",
   "metadata": {},
   "source": [
    "### Checking the results with noise added to the input vectors"
   ]
  },
  {
   "cell_type": "code",
   "execution_count": 109,
   "id": "referenced-bacon",
   "metadata": {},
   "outputs": [
    {
     "name": "stdout",
     "output_type": "stream",
     "text": [
      "The accuracy of the model for the 1-th word: 1.0\n",
      "The accuracy of the model for the 2-th word: 1.0\n",
      "The accuracy of the model for the 3-th word: 1.0\n"
     ]
    }
   ],
   "source": [
    "results = np.zeros([3])\n",
    "for _ in range(100):\n",
    "    for i in range(3):\n",
    "        input_with_noise = add_noise(ps[i], .1)\n",
    "        history_x, history_y = predict(input_with_noise, weights)\n",
    "        if (history_x == ps[i]).all() and (history_y == ts[i]).all():\n",
    "            results[i] += 1\n",
    "for i in range(3):\n",
    "    print('The accuracy of the model for the {}-th word: {}'.format(i + 1, results[i] / 100))"
   ]
  },
  {
   "cell_type": "code",
   "execution_count": 110,
   "id": "local-pantyhose",
   "metadata": {},
   "outputs": [
    {
     "name": "stdout",
     "output_type": "stream",
     "text": [
      "The accuracy of the model for the 1-th word: 0.35\n",
      "The accuracy of the model for the 2-th word: 0.24\n",
      "The accuracy of the model for the 3-th word: 0.41\n"
     ]
    }
   ],
   "source": [
    "results = np.zeros([3])\n",
    "for _ in range(100):\n",
    "    for i in range(3):\n",
    "        input_with_noise = add_noise(ps[i], .4)\n",
    "        history_x, history_y = predict(input_with_noise, weights)\n",
    "        if (history_x == ps[i]).all() and (history_y == ts[i]).all():\n",
    "            results[i] += 1\n",
    "for i in range(3):\n",
    "    print('The accuracy of the model for the {}-th word: {}'.format(i + 1, results[i] / 100))"
   ]
  },
  {
   "cell_type": "markdown",
   "id": "moved-pride",
   "metadata": {},
   "source": [
    "### Checking the reverse form of prediction"
   ]
  },
  {
   "cell_type": "code",
   "execution_count": 111,
   "id": "common-bonus",
   "metadata": {},
   "outputs": [],
   "source": [
    "history_x, history_y = predict_r(np.array([0, -1, -1]), weights)"
   ]
  },
  {
   "cell_type": "code",
   "execution_count": 113,
   "id": "driving-assembly",
   "metadata": {},
   "outputs": [
    {
     "data": {
      "text/plain": [
       "<matplotlib.image.AxesImage at 0x7ff0eab7aee0>"
      ]
     },
     "execution_count": 113,
     "metadata": {},
     "output_type": "execute_result"
    },
    {
     "data": {
      "image/png": "[encoded data removed]",
      "text/plain": [
       "<Figure size 432x288 with 1 Axes>"
      ]
     },
     "metadata": {
      "needs_background": "light"
     },
     "output_type": "display_data"
    }
   ],
   "source": [
    "plt.imshow(history_x.reshape(5, 3), cmap=plt.cm.gray_r)"
   ]
  },
  {
   "cell_type": "markdown",
   "id": "minute-monthly",
   "metadata": {},
   "source": [
    "### Training the model on eight patterns"
   ]
  },
  {
   "cell_type": "code",
   "execution_count": 120,
   "id": "dependent-extraction",
   "metadata": {},
   "outputs": [],
   "source": [
    "weights = init_weights(ps, ts)"
   ]
  },
  {
   "cell_type": "code",
   "execution_count": 124,
   "id": "assisted-butter",
   "metadata": {},
   "outputs": [
    {
     "name": "stdout",
     "output_type": "stream",
     "text": [
      "[[ 2. -2.  6.]\n",
      " [-2. -2. -2.]\n",
      " [ 6.  2. -2.]\n",
      " [ 0.  0.  0.]\n",
      " [ 0.  0.  0.]\n",
      " [-4.  0.  4.]\n",
      " [ 0.  0.  0.]\n",
      " [ 2. -6.  2.]\n",
      " [ 0.  4.  0.]\n",
      " [ 0.  0.  0.]\n",
      " [ 0.  0.  0.]\n",
      " [-2.  2.  2.]\n",
      " [ 0. -4.  4.]\n",
      " [-2.  2. -2.]\n",
      " [ 2.  2. -6.]]\n"
     ]
    }
   ],
   "source": [
    "print(weights)"
   ]
  },
  {
   "cell_type": "code",
   "execution_count": 134,
   "id": "sunset-galaxy",
   "metadata": {},
   "outputs": [
    {
     "name": "stdout",
     "output_type": "stream",
     "text": [
      "The accuracy of the model for the 1-th word: 0.0\n",
      "The accuracy of the model for the 2-th word: 1.0\n",
      "The accuracy of the model for the 3-th word: 1.0\n",
      "The accuracy of the model for the 4-th word: 0.0\n"
     ]
    }
   ],
   "source": [
    "n_patterns = 4\n",
    "weights = init_weights(ps[:n_patterns, :], ts[: n_patterns, :])\n",
    "results = np.zeros([n_patterns])\n",
    "for _ in range(100):\n",
    "    for i in range(n_patterns):\n",
    "        input_with_noise = add_noise(ps[i], 0)\n",
    "        history_x, history_y = predict(input_with_noise, weights)\n",
    "        if (history_x == ps[i]).all() and (history_y == ts[i]).all():\n",
    "            results[i] += 1\n",
    "for i in range(n_patterns):\n",
    "    print('The accuracy of the model for the {}-th word: {}'.format(i + 1, results[i] / 100))"
   ]
  },
  {
   "cell_type": "markdown",
   "id": "bored-cooperation",
   "metadata": {},
   "source": [
    "### Computing the Hamming distance between the input vectors"
   ]
  },
  {
   "cell_type": "code",
   "execution_count": 140,
   "id": "previous-english",
   "metadata": {},
   "outputs": [],
   "source": [
    "def compute_hamming_distance(a, b):\n",
    "    return len(np.where(a != b)[0])"
   ]
  },
  {
   "cell_type": "code",
   "execution_count": 142,
   "id": "criminal-installation",
   "metadata": {},
   "outputs": [
    {
     "name": "stdout",
     "output_type": "stream",
     "text": [
      "hamming distance between 1-th input vector and the 2-th input vector: 4\n",
      "hamming distance between 1-th input vector and the 3-th input vector: 7\n",
      "hamming distance between 1-th input vector and the 4-th input vector: 4\n",
      "hamming distance between 1-th input vector and the 5-th input vector: 6\n",
      "hamming distance between 1-th input vector and the 6-th input vector: 6\n",
      "hamming distance between 1-th input vector and the 7-th input vector: 5\n",
      "hamming distance between 1-th input vector and the 8-th input vector: 3\n",
      "hamming distance between 2-th input vector and the 3-th input vector: 7\n",
      "hamming distance between 2-th input vector and the 4-th input vector: 2\n",
      "hamming distance between 2-th input vector and the 5-th input vector: 4\n",
      "hamming distance between 2-th input vector and the 6-th input vector: 4\n",
      "hamming distance between 2-th input vector and the 7-th input vector: 7\n",
      "hamming distance between 2-th input vector and the 8-th input vector: 5\n",
      "hamming distance between 3-th input vector and the 4-th input vector: 7\n",
      "hamming distance between 3-th input vector and the 5-th input vector: 3\n",
      "hamming distance between 3-th input vector and the 6-th input vector: 5\n",
      "hamming distance between 3-th input vector and the 7-th input vector: 2\n",
      "hamming distance between 3-th input vector and the 8-th input vector: 8\n",
      "hamming distance between 4-th input vector and the 5-th input vector: 6\n",
      "hamming distance between 4-th input vector and the 6-th input vector: 6\n",
      "hamming distance between 4-th input vector and the 7-th input vector: 5\n",
      "hamming distance between 4-th input vector and the 8-th input vector: 5\n",
      "hamming distance between 5-th input vector and the 6-th input vector: 2\n",
      "hamming distance between 5-th input vector and the 7-th input vector: 5\n",
      "hamming distance between 5-th input vector and the 8-th input vector: 5\n",
      "hamming distance between 6-th input vector and the 7-th input vector: 7\n",
      "hamming distance between 6-th input vector and the 8-th input vector: 5\n",
      "hamming distance between 7-th input vector and the 8-th input vector: 6\n"
     ]
    }
   ],
   "source": [
    "for i in range(8):\n",
    "    for j in range(i + 1, 8):\n",
    "        print('hamming distance between {}-th input vector and the {}-th input vector: {}'.format(\n",
    "            i + 1, \n",
    "            j + 1,\n",
    "            compute_hamming_distance(ps[i], ps[j])\n",
    "        ))"
   ]
  },
  {
   "cell_type": "code",
   "execution_count": 153,
   "id": "enormous-assignment",
   "metadata": {},
   "outputs": [
    {
     "name": "stdout",
     "output_type": "stream",
     "text": [
      "The accuracy of the model for the 1-th word: 0.6\n",
      "The accuracy of the model for the 2-th word: 0.733\n",
      "The accuracy of the model for the 3-th word: 0.667\n",
      "The accuracy of the model for the 4-th word: 0.667\n",
      "The accuracy of the model for the 5-th word: 0.6\n",
      "The accuracy of the model for the 6-th word: 0.733\n",
      "The accuracy of the model for the 7-th word: 0.667\n",
      "The accuracy of the model for the 8-th word: 0.533\n"
     ]
    }
   ],
   "source": [
    "n_patterns = 8\n",
    "weights = init_weights(ps[:n_patterns, :], ts[: n_patterns, :])\n",
    "results = np.zeros([n_patterns])\n",
    "for i in range(n_patterns):\n",
    "    input_with_noise = add_noise(ps[i], 0)\n",
    "    history_x, history_y = predict(input_with_noise, weights)\n",
    "    results[i] = len(np.where(history_x == ps[i])[0])\n",
    "for i in range(n_patterns):\n",
    "    print('The accuracy of the model for the {}-th word: {}'.format(i + 1, np.round(results[i] / 15, 3)))"
   ]
  }
 ],
 "metadata": {
  "kernelspec": {
   "display_name": "Python 3",
   "language": "python",
   "name": "python3"
  },
  "language_info": {
   "codemirror_mode": {
    "name": "ipython",
    "version": 3
   },
   "file_extension": ".py",
   "mimetype": "text/x-python",
   "name": "python",
   "nbconvert_exporter": "python",
   "pygments_lexer": "ipython3",
   "version": "3.8.0"
  }
 },
 "nbformat": 4,
 "nbformat_minor": 5
}
