{
 "cells": [
  {
   "cell_type": "markdown",
   "id": "stupid-objective",
   "metadata": {},
   "source": [
    "### Importing the required libraries"
   ]
  },
  {
   "cell_type": "code",
   "execution_count": 111,
   "id": "humanitarian-romance",
   "metadata": {},
   "outputs": [],
   "source": [
    "import pandas as pd\n",
    "import numpy as np\n",
    "import matplotlib.pyplot as plt"
   ]
  },
  {
   "cell_type": "markdown",
   "id": "conventional-sydney",
   "metadata": {},
   "source": [
    "### Defining the Input Images"
   ]
  },
  {
   "cell_type": "code",
   "execution_count": 112,
   "id": "regular-swing",
   "metadata": {},
   "outputs": [],
   "source": [
    "ps = np.zeros((3, 63))\n",
    "ps[0] = np.array([\n",
    "    -1, -1, -1, 1, -1, -1, -1, \n",
    "    -1, -1, -1, 1, -1, -1, -1, \n",
    "    -1, -1, -1, 1, -1, -1, -1, \n",
    "    -1, -1, 1, -1, 1, -1, -1, \n",
    "    -1, -1, 1, -1, 1, -1, -1, \n",
    "    -1, 1, 1, 1, 1, 1, -1, \n",
    "    -1, 1, -1, -1, -1, 1, -1, \n",
    "    -1, 1, -1, -1, -1, 1, -1, \n",
    "    1, 1, 1, -1, 1, 1, 1\n",
    "])\n",
    "ps[1] = np.array([\n",
    "    1, 1, 1, 1, 1, 1, 1, \n",
    "    1, -1, -1, -1, -1, -1, 1,\n",
    "    1, -1, -1, -1, -1, 1, -1,\n",
    "    1, -1, -1, -1, 1, -1, -1,\n",
    "    1, 1, 1, 1, -1, -1, -1,\n",
    "    1, -1, -1, -1, 1, -1, -1,\n",
    "    1, -1, -1, -1, -1, 1, -1,\n",
    "    1, -1, -1, -1, -1, -1, 1,\n",
    "    1, 1, 1, 1, 1, 1, 1, \n",
    "])\n",
    "ps[2] = np.array([\n",
    "    -1, -1, 1, 1, 1, 1, -1, \n",
    "    -1, 1, -1, -1, -1, -1, 1,\n",
    "    1, -1, -1, -1, -1, -1, -1,\n",
    "    1, -1, -1, -1, -1, -1, -1,\n",
    "    1, -1, -1, -1, -1, -1, -1,\n",
    "    1, -1, -1, -1, -1, -1, -1,\n",
    "    1, -1, -1, -1, -1, -1, -1,\n",
    "    -1, 1, -1, -1, -1, -1, 1,\n",
    "    -1, -1, 1, 1, 1, 1, -1, \n",
    "])"
   ]
  },
  {
   "cell_type": "markdown",
   "id": "abroad-walnut",
   "metadata": {},
   "source": [
    "### Defining the Output Images"
   ]
  },
  {
   "cell_type": "code",
   "execution_count": 113,
   "id": "fatal-smell",
   "metadata": {},
   "outputs": [],
   "source": [
    "ts = np.zeros((3, 15))\n",
    "ts[0] = np.array([\n",
    "    -1, 1, -1, \n",
    "    1, -1, 1, \n",
    "    1, 1, 1,\n",
    "    1, -1, 1,\n",
    "    1, -1, 1,\n",
    "])\n",
    "ts[1] = np.array([\n",
    "    1, 1, -1, \n",
    "    1, -1, 1,\n",
    "    1, 1, -1,\n",
    "    1, -1, 1,\n",
    "    1, 1, -1,\n",
    "])\n",
    "ts[2] = np.array([\n",
    "    -1, 1, 1,\n",
    "    1, -1, -1,\n",
    "    1, -1, -1,\n",
    "    1, -1, -1,\n",
    "    -1, 1, 1\n",
    "])"
   ]
  },
  {
   "cell_type": "code",
   "execution_count": 114,
   "id": "applicable-simpson",
   "metadata": {},
   "outputs": [
    {
     "data": {
      "image/png": "[encoded data removed]",
      "text/plain": [
       "<Figure size 432x288 with 3 Axes>"
      ]
     },
     "metadata": {
      "needs_background": "light"
     },
     "output_type": "display_data"
    }
   ],
   "source": [
    "fig, axs = plt.subplots(nrows=1, ncols=3)\n",
    "for i in range(3):\n",
    "    axs[i].imshow(ps[i].reshape((9, 7)), cmap=plt.cm.gray_r)"
   ]
  },
  {
   "cell_type": "code",
   "execution_count": 115,
   "id": "fatty-express",
   "metadata": {},
   "outputs": [
    {
     "data": {
      "image/png": "[encoded data removed]",
      "text/plain": [
       "<Figure size 432x288 with 3 Axes>"
      ]
     },
     "metadata": {
      "needs_background": "light"
     },
     "output_type": "display_data"
    }
   ],
   "source": [
    "fig, axs = plt.subplots(nrows=1, ncols=3)\n",
    "for i in range(3):\n",
    "    axs[i].imshow(ts[i].reshape((5, 3)), cmap=plt.cm.gray_r)"
   ]
  },
  {
   "cell_type": "code",
   "execution_count": 116,
   "id": "starting-board",
   "metadata": {},
   "outputs": [],
   "source": [
    "weights = np.zeros((63, 15))\n",
    "for i in range(3):\n",
    "    a = ps[i]\n",
    "    b = ts[i]\n",
    "    a = np.expand_dims(a, 1)\n",
    "    b = np.expand_dims(b, 1)\n",
    "    weights += np.matmul(a, b.T)"
   ]
  },
  {
   "cell_type": "code",
   "execution_count": 117,
   "id": "covered-quebec",
   "metadata": {},
   "outputs": [],
   "source": [
    "def activation_function(a):\n",
    "    if a > 0:\n",
    "        return 1\n",
    "    else:\n",
    "        return -1\n",
    "activation_function = np.vectorize(activation_function)"
   ]
  },
  {
   "cell_type": "code",
   "execution_count": 118,
   "id": "pharmaceutical-kingdom",
   "metadata": {},
   "outputs": [],
   "source": [
    "def predict(a, weights):\n",
    "    a = a.copy()\n",
    "    a = np.expand_dims(a, 1)\n",
    "    z = np.matmul(a.T, weights)\n",
    "    z = np.squeeze(z, 0)\n",
    "    a = activation_function(z)\n",
    "    return a"
   ]
  },
  {
   "cell_type": "code",
   "execution_count": 119,
   "id": "chronic-logan",
   "metadata": {},
   "outputs": [
    {
     "name": "stdout",
     "output_type": "stream",
     "text": [
      "True\n",
      "True\n",
      "True\n"
     ]
    }
   ],
   "source": [
    "for i in range(3):\n",
    "    a = predict(ps[i], weights)\n",
    "    print((a == ts[i]).all())"
   ]
  },
  {
   "cell_type": "markdown",
   "id": "chief-intro",
   "metadata": {},
   "source": [
    "### Add Noise to the Data"
   ]
  },
  {
   "cell_type": "code",
   "execution_count": 120,
   "id": "composite-presentation",
   "metadata": {},
   "outputs": [],
   "source": [
    "def add_noise(a, prob, zero=False):\n",
    "    a = a.copy()\n",
    "    choices = np.random.choice(np.arange(a.shape[0]), size=int(prob*a.shape[0]), replace=False)\n",
    "    for choice in choices:\n",
    "        if zero:\n",
    "            a[choice] = 0\n",
    "        else:\n",
    "            a[choice] *= -1\n",
    "    return a"
   ]
  },
  {
   "cell_type": "code",
   "execution_count": 121,
   "id": "ordinary-tsunami",
   "metadata": {},
   "outputs": [
    {
     "name": "stdout",
     "output_type": "stream",
     "text": [
      "results for probability of noise 0.1 and condition of making zeros False: 1.0\n",
      "results for probability of noise 0.25 and condition of making zeros False: 0.963\n",
      "results for probability of noise 0.4 and condition of making zeros False: 0.467\n",
      "results for probability of noise 0.1 and condition of making zeros True: 1.0\n",
      "results for probability of noise 0.25 and condition of making zeros True: 1.0\n",
      "results for probability of noise 0.4 and condition of making zeros True: 1.0\n"
     ]
    }
   ],
   "source": [
    "nepochs = 100\n",
    "probs = [.1, .25, .4]\n",
    "for make_zero in [False, True]:\n",
    "    for prob in probs:\n",
    "        result = 0\n",
    "        for epoch in range(nepochs):\n",
    "            for i in range(3):\n",
    "                a = add_noise(ps[i], prob, make_zero)\n",
    "                a = predict(a, weights)\n",
    "                if (a == ts[i]).all():\n",
    "                    result += 1\n",
    "        print('results for probability of noise {} and condition of making zeros {}: {}'.format(\n",
    "            prob, \n",
    "            make_zero, \n",
    "            np.round(result /3/nepochs, 3)\n",
    "        ))"
   ]
  }
 ],
 "metadata": {
  "kernelspec": {
   "display_name": "Python 3",
   "language": "python",
   "name": "python3"
  },
  "language_info": {
   "codemirror_mode": {
    "name": "ipython",
    "version": 3
   },
   "file_extension": ".py",
   "mimetype": "text/x-python",
   "name": "python",
   "nbconvert_exporter": "python",
   "pygments_lexer": "ipython3",
   "version": "3.8.0"
  }
 },
 "nbformat": 4,
 "nbformat_minor": 5
}
