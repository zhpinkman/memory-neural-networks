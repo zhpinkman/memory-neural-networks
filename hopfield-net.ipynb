{
 "cells": [
  {
   "cell_type": "code",
   "execution_count": 126,
   "id": "martial-corruption",
   "metadata": {},
   "outputs": [],
   "source": [
    "import numpy as np\n",
    "import matplotlib.pyplot as plt"
   ]
  },
  {
   "cell_type": "code",
   "execution_count": 127,
   "id": "funded-balance",
   "metadata": {},
   "outputs": [],
   "source": [
    "ps = np.zeros((2, 64))\n",
    "ps[0] = np.array([\n",
    "    1, 1, 1, 1, 1, 1, 1, 1,\n",
    "    1, 1, 1, 1, 1, 1, 1, 1,\n",
    "    1, 1, -1, -1, -1, -1, 1, 1,\n",
    "    1, 1, -1, -1, -1, -1, 1, 1,\n",
    "    1, 1, -1, -1, -1, -1, 1, 1,\n",
    "    1, 1, -1, -1, -1, -1, 1, 1,\n",
    "    1, 1, 1, 1, 1, 1, 1, 1,\n",
    "    1, 1, 1, 1, 1, 1, 1, 1,\n",
    "])\n",
    "ps[1] = np.array([\n",
    "    -1, -1, 1, 1, 1, -1, -1, -1,\n",
    "    -1, -1, -1, 1, 1, -1, -1, -1,\n",
    "    -1, -1, -1, 1, 1, -1, -1, -1,\n",
    "    -1, -1, -1, 1, 1, -1, -1, -1,\n",
    "    -1, -1, -1, 1, 1, -1, -1, -1,\n",
    "    -1, -1, -1, 1, 1, -1, -1, -1,\n",
    "    -1, -1, -1, 1, 1, -1, -1, -1,\n",
    "    -1, -1, -1, 1, 1, -1, -1, -1,\n",
    "])"
   ]
  },
  {
   "cell_type": "code",
   "execution_count": 128,
   "id": "coastal-composer",
   "metadata": {},
   "outputs": [
    {
     "data": {
      "image/png": "[encoded data removed]",
      "text/plain": [
       "<Figure size 432x288 with 2 Axes>"
      ]
     },
     "metadata": {
      "needs_background": "light"
     },
     "output_type": "display_data"
    }
   ],
   "source": [
    "fig, axs = plt.subplots(1, 2)\n",
    "for i in range(ps.shape[0]):\n",
    "    axs[i].imshow(np.reshape(ps[i], (8, 8)), cmap=plt.cm.gray_r)"
   ]
  },
  {
   "cell_type": "code",
   "execution_count": 129,
   "id": "affected-pregnancy",
   "metadata": {},
   "outputs": [],
   "source": [
    "def init_weights(input_vectors):\n",
    "    weights = np.zeros((input_vectors.shape[1], input_vectors.shape[1]))\n",
    "    for i in range(input_vectors.shape[0]):\n",
    "        a = input_vectors[i]\n",
    "        a = np.expand_dims(a, 1)\n",
    "        weights += np.matmul(a, a.T)\n",
    "    for i in range(input_vectors.shape[1]):\n",
    "        weights[i][i] = 0\n",
    "    return weights"
   ]
  },
  {
   "cell_type": "code",
   "execution_count": 130,
   "id": "vietnamese-registrar",
   "metadata": {},
   "outputs": [],
   "source": [
    "weights = init_weights(ps)"
   ]
  },
  {
   "cell_type": "code",
   "execution_count": 131,
   "id": "italian-fantasy",
   "metadata": {},
   "outputs": [],
   "source": [
    "def activate(yi, theta=0):\n",
    "    if yi > theta:\n",
    "        return 1\n",
    "    else:\n",
    "        return -1"
   ]
  },
  {
   "cell_type": "code",
   "execution_count": 136,
   "id": "valid-knight",
   "metadata": {},
   "outputs": [],
   "source": [
    "def predict(input_image, weights):\n",
    "    history = np.zeros((input_image.shape[0]))\n",
    "    y = input_image\n",
    "    converged = False\n",
    "    while not converged:\n",
    "        random_indices = np.random.permutation(np.arange(len(input_image)))\n",
    "        for index in random_indices:\n",
    "            y[index] = input_image[index] + np.dot(y, weights[index])\n",
    "            y[index] = activate(y[index])\n",
    "        if (y != history).any():\n",
    "            converged = True\n",
    "        history = y\n",
    "        if converged:\n",
    "            print('successfully converged!!')\n",
    "            break\n",
    "    return history"
   ]
  },
  {
   "cell_type": "code",
   "execution_count": 142,
   "id": "sticky-bride",
   "metadata": {},
   "outputs": [
    {
     "name": "stdout",
     "output_type": "stream",
     "text": [
      "successfully converged!!\n",
      "True\n",
      "successfully converged!!\n",
      "True\n"
     ]
    }
   ],
   "source": [
    "for i in range(ps.shape[0]):\n",
    "    input_image = ps[i]\n",
    "    history = predict(input_image, weights)\n",
    "    print((history == ps[i]).all())"
   ]
  },
  {
   "cell_type": "code",
   "execution_count": 144,
   "id": "political-optimization",
   "metadata": {},
   "outputs": [
    {
     "data": {
      "text/plain": [
       "<matplotlib.image.AxesImage at 0x7f88a8735820>"
      ]
     },
     "execution_count": 144,
     "metadata": {},
     "output_type": "execute_result"
    },
    {
     "data": {
      "image/png": "[encoded data removed]",
      "text/plain": [
       "<Figure size 432x288 with 1 Axes>"
      ]
     },
     "metadata": {
      "needs_background": "light"
     },
     "output_type": "display_data"
    }
   ],
   "source": [
    "plt.imshow(history.reshape([8, 8]), cmap=plt.cm.gray_r)"
   ]
  },
  {
   "cell_type": "markdown",
   "id": "weekly-gregory",
   "metadata": {},
   "source": [
    "### Adding noise to the images"
   ]
  },
  {
   "cell_type": "code",
   "execution_count": 147,
   "id": "common-uniform",
   "metadata": {},
   "outputs": [],
   "source": [
    "def add_noise(a, prob):\n",
    "    a = a.copy()\n",
    "    choices = np.random.choice(np.arange(a.shape[0]), size=int(prob*a.shape[0]), replace=False)\n",
    "    for choice in choices:\n",
    "        a[choice] *= -1\n",
    "    return a"
   ]
  },
  {
   "cell_type": "code",
   "execution_count": 160,
   "id": "median-smoke",
   "metadata": {},
   "outputs": [],
   "source": [
    "def compute_hamming_distance(a, b):\n",
    "    return len(np.where(a != b)[0])"
   ]
  },
  {
   "cell_type": "code",
   "execution_count": 159,
   "id": "phantom-geography",
   "metadata": {},
   "outputs": [
    {
     "name": "stdout",
     "output_type": "stream",
     "text": [
      "successfully converged!!\n",
      "True\n",
      "successfully converged!!\n",
      "True\n"
     ]
    }
   ],
   "source": [
    "predictions = []\n",
    "for i in range(ps.shape[0]):\n",
    "    input_image = ps[i]\n",
    "    input_image = add_noise(input_image, .3)\n",
    "    history = predict(input_image, weights)\n",
    "    predictions.append(history)\n",
    "    print((history == ps[i]).all())"
   ]
  },
  {
   "cell_type": "code",
   "execution_count": 162,
   "id": "trained-interpretation",
   "metadata": {},
   "outputs": [
    {
     "name": "stdout",
     "output_type": "stream",
     "text": [
      "successfully converged!!\n",
      "successfully converged!!\n",
      "successfully converged!!\n",
      "successfully converged!!\n",
      "successfully converged!!\n",
      "successfully converged!!\n",
      "successfully converged!!\n",
      "successfully converged!!\n",
      "successfully converged!!\n",
      "successfully converged!!\n",
      "successfully converged!!\n",
      "successfully converged!!\n",
      "successfully converged!!\n",
      "successfully converged!!\n",
      "successfully converged!!\n",
      "successfully converged!!\n",
      "successfully converged!!\n",
      "successfully converged!!\n",
      "successfully converged!!\n",
      "successfully converged!!\n"
     ]
    }
   ],
   "source": [
    "hamming_distances = np.zeros([2, 10])\n",
    "for noise_index, noise in enumerate(np.linspace(0, 1, num=10)):\n",
    "    for i in range(ps.shape[0]):\n",
    "        input_image = ps[i]\n",
    "        input_image = add_noise(input_image, noise)\n",
    "        history = predict(input_image, weights)\n",
    "        hamming_distances[i, noise_index] = compute_hamming_distance(history, ps[i])"
   ]
  },
  {
   "cell_type": "code",
   "execution_count": 190,
   "id": "solar-switch",
   "metadata": {},
   "outputs": [
    {
     "data": {
      "image/png": "[encoded data removed]",
      "text/plain": [
       "<Figure size 1080x720 with 1 Axes>"
      ]
     },
     "metadata": {
      "needs_background": "light"
     },
     "output_type": "display_data"
    }
   ],
   "source": [
    "plt.figure(figsize=(15, 10))\n",
    "plt.plot(hamming_distances[0], label='input: 0', marker='*', markersize=15)\n",
    "plt.plot(hamming_distances[1], label='input: 1', marker='^', markersize=5)\n",
    "plt.xticks(np.arange(10))\n",
    "plt.gca().set_xticklabels([0, 10, 20, 30, 40, 50, 60, 70, 80, 90])\n",
    "plt.legend()\n",
    "plt.xlabel('Noise')\n",
    "plt.ylabel('Hamming Distance')\n",
    "plt.title('Hamming distance computed for different noise rates')\n",
    "plt.show()"
   ]
  }
 ],
 "metadata": {
  "kernelspec": {
   "display_name": "Python 3",
   "language": "python",
   "name": "python3"
  },
  "language_info": {
   "codemirror_mode": {
    "name": "ipython",
    "version": 3
   },
   "file_extension": ".py",
   "mimetype": "text/x-python",
   "name": "python",
   "nbconvert_exporter": "python",
   "pygments_lexer": "ipython3",
   "version": "3.8.0"
  }
 },
 "nbformat": 4,
 "nbformat_minor": 5
}
